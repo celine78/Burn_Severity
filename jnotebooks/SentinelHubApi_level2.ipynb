{
 "cells": [
  {
   "cell_type": "code",
   "execution_count": 1,
   "metadata": {},
   "outputs": [],
   "source": [
    "# Check out the configurations of Sentinel Hub\n",
    "\n",
    "#!sentinelhub.config --show"
   ]
  },
  {
   "cell_type": "code",
   "execution_count": 2,
   "metadata": {},
   "outputs": [],
   "source": [
    "# Update the configurations with the client id, client secret id and instance id from Sentinel Hub\n",
    "# old secret: m0<l..i&~i_;dz|?C0rC[]JI_5aIy3DL[HEtYCmz\n",
    "#!sentinelhub.config --sh_client_id '8a419e16-5053-4203-b22c-4e2c448547c1' --sh_client_secret 'm#khV[sw1X8O5tYGwQ&)w?F439(Y#t:hv+ehvje}' --instance_id '37abf98d-a04e-40df-9a9b-6b58fb18ee6e'\n",
    "#config.save()\n"
   ]
  },
  {
   "cell_type": "code",
   "execution_count": 41,
   "metadata": {},
   "outputs": [
    {
     "data": {
      "text/plain": [
       "SHConfig(\n",
       "  instance_id='37abf98d-a04e-40df-9a9b-6b58fb18ee6e',\n",
       "  sh_client_id='8a419e16-5053-4203-b22c-4e2c448547c1',\n",
       "  sh_client_secret='m#khV[sw1X8O5tYGwQ&)w?F439(Y#t:hv+ehvje}',\n",
       "  sh_base_url='https://services.sentinel-hub.com',\n",
       "  sh_auth_base_url='https://services.sentinel-hub.com',\n",
       "  geopedia_wms_url='https://service.geopedia.world',\n",
       "  geopedia_rest_url='https://www.geopedia.world/rest',\n",
       "  aws_access_key_id='',\n",
       "  aws_secret_access_key='',\n",
       "  aws_session_token='',\n",
       "  aws_metadata_url='https://roda.sentinel-hub.com',\n",
       "  aws_s3_l1c_bucket='sentinel-s2-l1c',\n",
       "  aws_s3_l2a_bucket='sentinel-s2-l2a',\n",
       "  opensearch_url='http://opensearch.sentinel-hub.com/resto/api/collections/Sentinel2',\n",
       "  max_wfs_records_per_query=100,\n",
       "  max_opensearch_records_per_query=500,\n",
       "  max_download_attempts=4,\n",
       "  download_sleep_time=5.0,\n",
       "  download_timeout_seconds=120.0,\n",
       "  number_of_download_processes=1\n",
       ")"
      ]
     },
     "execution_count": 41,
     "metadata": {},
     "output_type": "execute_result"
    }
   ],
   "source": [
    "# Create a config instance from Sentinel Hub\n",
    "\n",
    "from sentinelhub import SHConfig\n",
    "config = SHConfig()\n",
    "config"
   ]
  },
  {
   "cell_type": "code",
   "execution_count": 42,
   "metadata": {},
   "outputs": [],
   "source": [
    "# Logging config\n",
    "\n",
    "import logging, sys\n",
    "\n",
    "logger = logging.getLogger(__name__)\n",
    "logger.setLevel(logging.DEBUG)\n",
    "\n",
    "fhandler = logging.FileHandler(filename='api_log.log', mode='a')\n",
    "strhandler = logging.StreamHandler(sys.stdout)\n",
    "formatter = logging.Formatter('%(asctime)s - %(name)s - %(levelname)s - %(message)s')\n",
    "fhandler.setFormatter(formatter)\n",
    "logger.addHandler(fhandler)\n",
    "logger.addHandler(strhandler)"
   ]
  },
  {
   "cell_type": "code",
   "execution_count": 43,
   "metadata": {},
   "outputs": [],
   "source": [
    "# IPython magic functions\n",
    "\n",
    "%reload_ext autoreload\n",
    "%autoreload 2\n",
    "%matplotlib inline"
   ]
  },
  {
   "cell_type": "code",
   "execution_count": 44,
   "metadata": {},
   "outputs": [],
   "source": [
    "# Import packages\n",
    "\n",
    "import datetime, os, sys\n",
    "\n",
    "import matplotlib.pyplot as plt\n",
    "import numpy as np\n",
    "from shapely import geometry\n",
    "import pandas as pd\n",
    "from datetime import datetime\n",
    "import time, ast\n",
    "from dateutil.relativedelta import relativedelta\n",
    "\n",
    "from sentinelhub import (\n",
    "    CRS,\n",
    "    BBox,\n",
    "    Geometry,\n",
    "    DataCollection,\n",
    "    DownloadRequest,\n",
    "    MimeType,\n",
    "    MosaickingOrder,\n",
    "    SentinelHubDownloadClient,\n",
    "    SentinelHubRequest,\n",
    "    bbox_to_dimensions,\n",
    "    get_image_dimension\n",
    ")"
   ]
  },
  {
   "cell_type": "code",
   "execution_count": 35,
   "metadata": {},
   "outputs": [
    {
     "name": "stdout",
     "output_type": "stream",
     "text": [
      "CSV data imported\n",
      "CSV data imported\n",
      "                                    Area of interest End of fire  \\\n",
      "0  EMSR175_01CALHETA_GRADING_OVERVIEW-MONIT02_v1_...  2016-08-16   \n",
      "1       EMSR175_02FUNCHAL_GRADING_OVERVIEW_v1_vector  2016-08-11   \n",
      "2  EMSR210_05ELCAMPILLOOVERVIEW_02GRADING_MAP_v1_...  2017-07-08   \n",
      "3           EMSR211_02SONEJA_02GRADING_MAP_v1_vector  2017-07-08   \n",
      "4      EMSR213_01VESUVIO_02GRADING_MONIT01_v2_vector  2017-07-16   \n",
      "\n",
      "                                    Bbox coordinates Polygon coordinates  \\\n",
      "0  [-17.2144494574379507,32.6995227836476303,-17....                 NaN   \n",
      "1  [-17.0297773356982809,32.6313310944295978,-16....                 NaN   \n",
      "2  [-6.7200183960538604,37.6850935359744525,-6.59...                 NaN   \n",
      "3  [-0.4849453245600591,39.7814226710891532,-0.42...                 NaN   \n",
      "4  [14.3658109057387406,40.7643571090310814,14.47...                 NaN   \n",
      "\n",
      "   width  height            Location        Code  QA ok=1; nok=0  \\\n",
      "0  653.0   512.0             CALHETA  EMSR175_01             1.0   \n",
      "1  651.0   512.0             FUNCHAL  EMSR175_02             0.0   \n",
      "2  512.0   540.0  ELCAMPILLOOVERVIEW  EMSR210_05             1.0   \n",
      "3  593.0   512.0              SONEJA  EMSR211_02             1.0   \n",
      "4  512.0   545.0             VESUVIO  EMSR213_01             1.0   \n",
      "\n",
      "  Comment cc=cloud coverage; dim=dimensions; qa=quality assessment Landsat, del=delimitation, m=map quality  \\\n",
      "0                                                NaN                                                          \n",
      "1                                                 cc                                                          \n",
      "2                                                NaN                                                          \n",
      "3                                                NaN                                                          \n",
      "4                                                NaN                                                          \n",
      "\n",
      "   ... Unnamed: 60  Unnamed: 61 Unnamed: 62 Unnamed: 63 Unnamed: 64  \\\n",
      "0  ...         NaN          NaN         NaN         NaN         NaN   \n",
      "1  ...         NaN          NaN         NaN         NaN         NaN   \n",
      "2  ...         NaN          NaN         NaN         NaN         NaN   \n",
      "3  ...         NaN          NaN         NaN         NaN         NaN   \n",
      "4  ...         NaN          NaN         NaN         NaN         NaN   \n",
      "\n",
      "  Unnamed: 65  Unnamed: 66  Unnamed: 67  Unnamed: 68  Unnamed: 69  \n",
      "0         NaN          NaN          NaN          NaN          NaN  \n",
      "1         NaN          NaN          NaN          NaN          NaN  \n",
      "2         NaN          NaN          NaN          NaN          NaN  \n",
      "3         NaN          NaN          NaN          NaN          NaN  \n",
      "4         NaN          NaN          NaN          NaN          NaN  \n",
      "\n",
      "[5 rows x 70 columns]\n"
     ]
    },
    {
     "name": "stderr",
     "output_type": "stream",
     "text": [
      "INFO:__main__:CSV data imported\n"
     ]
    }
   ],
   "source": [
    "# Import CSV file with data about the Area of Interest (AoI)\n",
    "\n",
    "try:\n",
    "    aoi_csv = pd.read_csv('../aoi_data.csv', header=0)\n",
    "    logger.info('CSV data imported')\n",
    "    print(aoi_csv.head())\n",
    "except Exception as e:\n",
    "    logger.error('Error importing the csv file: ', e)\n",
    "    "
   ]
  },
  {
   "cell_type": "code",
   "execution_count": 46,
   "metadata": {},
   "outputs": [
    {
     "name": "stdout",
     "output_type": "stream",
     "text": [
      "CSV data imported\n",
      "CSV data imported\n",
      "CSV data imported\n",
      "                               Area of interest End of fire  \\\n",
      "0   EMSR344_01CALENZANA_02GRADING_MAP_v2_vector  2019-03-28   \n",
      "1  EMSR428_AOI01_GRA_PRODUCT_r1_RTP01_v2_vector  2020-02-27   \n",
      "2  EMSR506_AOI01_GRA_PRODUCT_r1_RTP01_v1_vector  2021-04-09   \n",
      "3  EMSR620_AOI01_GRA_PRODUCT_r1_RTP01_v1_vector  2022-08-15   \n",
      "4  EMSR638_AOI01_GRA_PRODUCT_r1_RTP01_v1_vector  2022-11-11   \n",
      "\n",
      "                                    Bbox coordinates  Polygon coordinates  \\\n",
      "0  [8.7015078210000638,42.4010933590000718,8.9364...                  NaN   \n",
      "1  [-15.7844236549999604,27.9064536160000785,-15....                  NaN   \n",
      "2  [-100.5435486129999845,25.3073887350000746,-10...                  NaN   \n",
      "3  [-4.9067605349999326,42.9342820860000529,-4.80...                  NaN   \n",
      "4  [25.2246621480000499,41.1778268960000560,25.37...                  NaN   \n",
      "\n",
      "   width  height                   Location           Code  QA ok=1; nok=0  \\\n",
      "0    NaN     NaN                  CALENZANA     EMSR344_01             NaN   \n",
      "1    NaN     NaN                    TASARTE  EMSR428_AOI01             NaN   \n",
      "2    NaN     NaN  SAN JOSE DE LAS BOGUILLAS  EMSR506_AOI01             NaN   \n",
      "3    NaN     NaN           BOCA DE HUERGANO  EMSR620_AOI01             NaN   \n",
      "4    NaN     NaN           PAPIKIO MOUNTAIN  EMSR638_AOI01             NaN   \n",
      "\n",
      "   Comment cc=cloud coverage; dim=dimensions; qa=quality assessment Landsat, del=delimitation, m=map quality  \\\n",
      "0                                                NaN                                                           \n",
      "1                                                NaN                                                           \n",
      "2                                                NaN                                                           \n",
      "3                                                NaN                                                           \n",
      "4                                                NaN                                                           \n",
      "\n",
      "   ...  Unnamed: 60  Unnamed: 61  Unnamed: 62  Unnamed: 63  Unnamed: 64  \\\n",
      "0  ...          NaN          NaN          NaN          NaN          NaN   \n",
      "1  ...          NaN          NaN          NaN          NaN          NaN   \n",
      "2  ...          NaN          NaN          NaN          NaN          NaN   \n",
      "3  ...          NaN          NaN          NaN          NaN          NaN   \n",
      "4  ...          NaN          NaN          NaN          NaN          NaN   \n",
      "\n",
      "   Unnamed: 65  Unnamed: 66  Unnamed: 67  Unnamed: 68  Unnamed: 69  \n",
      "0          NaN          NaN          NaN          NaN          NaN  \n",
      "1          NaN          NaN          NaN          NaN          NaN  \n",
      "2          NaN          NaN          NaN          NaN          NaN  \n",
      "3          NaN          NaN          NaN          NaN          NaN  \n",
      "4          NaN          NaN          NaN          NaN          NaN  \n",
      "\n",
      "[5 rows x 70 columns]\n"
     ]
    },
    {
     "name": "stderr",
     "output_type": "stream",
     "text": [
      "INFO:__main__:CSV data imported\n"
     ]
    }
   ],
   "source": [
    "# Import CSV file with data about the Area of Interest (AoI)\n",
    "\n",
    "try:\n",
    "    aoi_csv = pd.read_csv('../aoi_data_add.csv', header=0)\n",
    "    logger.info('CSV data imported')\n",
    "    print(aoi_csv.head())\n",
    "except Exception as e:\n",
    "    logger.error('Error importing the csv file: ', e)"
   ]
  },
  {
   "cell_type": "code",
   "execution_count": 47,
   "metadata": {},
   "outputs": [],
   "source": [
    "# Parse the coordinates of boxes\n",
    "def parse_coord_bbox(str_coordinates):\n",
    "    try:\n",
    "        coordinates = str_coordinates[1:-1].split(',')\n",
    "        coord_list = [float(coord) for coord in coordinates]\n",
    "        return coord_list\n",
    "    except Exception as e:\n",
    "        logger.error('Error occured parsing the box coordinates: ', e)"
   ]
  },
  {
   "cell_type": "code",
   "execution_count": 48,
   "metadata": {},
   "outputs": [],
   "source": [
    "# Parse the coordinates of polygones\n",
    "def parse_coord_poly(str_coordinates):\n",
    "    try:\n",
    "        coord_str = str_coordinates[1:-1].replace(' ','')\n",
    "        coord_list = ast.literal_eval(coord_str)\n",
    "        return coord_list\n",
    "    except Exception as e:\n",
    "        logger.error('Error occured parsing the poly coordinates: ', e)"
   ]
  },
  {
   "cell_type": "code",
   "execution_count": 49,
   "metadata": {},
   "outputs": [],
   "source": [
    "# Determine width & height of image\n",
    "\n",
    "def get_width_height(bbox_coordinates: BBox):\n",
    "    height = 512\n",
    "    width = get_image_dimension(bbox_coordinates, height=512)\n",
    "    if width < height:\n",
    "        width = 512\n",
    "        height = get_image_dimension(bbox_coordinates, width=512)\n",
    "    return width, height"
   ]
  },
  {
   "cell_type": "code",
   "execution_count": 51,
   "metadata": {},
   "outputs": [
    {
     "name": "stdout",
     "output_type": "stream",
     "text": [
      "Execution time: 13.71 seconds\n"
     ]
    }
   ],
   "source": [
    "# Retrieve satellite images providing boxes as AoI delimitations\n",
    "\n",
    "try:\n",
    "    aoi_bbox = aoi_csv.loc[aoi_csv['Bbox coordinates'].notna()]\n",
    "    aoi_bbox.reset_index(inplace=True)\n",
    "    \n",
    "    start = time.time()\n",
    "\n",
    "    for index, row in aoi_bbox.iterrows():\n",
    "        #logger.debug('Processing AOI with index: ', index)\n",
    "        time_from = row['End of fire']\n",
    "        date_delta = datetime.strptime(time_from, '%Y-%m-%d').date() + relativedelta(weeks=+2)\n",
    "        time_until = date_delta.strftime('%Y-%m-%d')\n",
    "        aoi_name = row['Location']\n",
    "        folder_name = row['Area of interest']\n",
    "        aoi_coords_wgs84 = parse_coord_bbox(row['Bbox coordinates'])\n",
    "        aoi_bbox_coord = BBox(bbox=aoi_coords_wgs84, crs=CRS.WGS84)\n",
    "        width, height = get_width_height(aoi_bbox_coord)\n",
    "        aoi_bbox.loc[index:index,'width'] = width\n",
    "        aoi_bbox.loc[index:index,'height'] = height\n",
    "        \n",
    "        evalscript_all_bands = \"\"\"\n",
    "        //VERSION=3\n",
    "\n",
    "        function setup() {\n",
    "        return {\n",
    "            input: [\"B01\", \"B02\", \"B03\", \"B04\", \"B05\", \"B06\", \"B07\", \"B10\", \"BQA\", \"dataMask\"],\n",
    "            output: {\n",
    "            id: \"reflectance\",\n",
    "            bands: 11,\n",
    "            sampleType: SampleType.UINT16 //floating point values are automatically rounded to the nearest integer by the service.\n",
    "            }\n",
    "        };\n",
    "        }\n",
    "        function evaluatePixel(sample, scenes, inputMetadata, customData, outputMetadata) {\n",
    "        return [sample.B01, sample.B02, sample.B03, sample.B04, sample.B05, sample.B06, sample.B07, sample.B10, sample.BQA, sample.dataMask]\n",
    "        }\n",
    "        \"\"\"\n",
    "        request_all_bands = SentinelHubRequest(\n",
    "            evalscript=evalscript_all_bands,\n",
    "            input_data=[\n",
    "                SentinelHubRequest.input_data(\n",
    "                    data_collection=DataCollection.LANDSAT_OT_L2,\n",
    "                    time_interval=(time_from, time_until),\n",
    "                    mosaicking_order=MosaickingOrder.LEAST_CC,\n",
    "                )\n",
    "            ],\n",
    "            responses=[SentinelHubRequest.output_response('reflectance', MimeType.TIFF)],\n",
    "            bbox=aoi_bbox_coord,\n",
    "            size=(width,height),\n",
    "            data_folder=f'../Data/Add_Landsat_images_level2_2W/{folder_name}',\n",
    "            config=config,\n",
    "        )\n",
    "        request_all_bands.save_data()\n",
    "        \n",
    "    end = time.time()\n",
    "    print(f'Execution time: {end - start:.2f} seconds')\n",
    "    #aoi_bbox.to_csv(path_or_buf='aoi_bbox_w_h.csv', index=False)\n",
    "except Exception as e:\n",
    "    #logger.error(f'Error occured while requesting satellite images: ', e)\n",
    "    print(e)\n",
    "    "
   ]
  },
  {
   "cell_type": "code",
   "execution_count": null,
   "metadata": {},
   "outputs": [],
   "source": []
  },
  {
   "cell_type": "code",
   "execution_count": null,
   "metadata": {},
   "outputs": [],
   "source": []
  },
  {
   "cell_type": "code",
   "execution_count": null,
   "metadata": {},
   "outputs": [],
   "source": []
  },
  {
   "cell_type": "code",
   "execution_count": null,
   "metadata": {},
   "outputs": [],
   "source": []
  },
  {
   "cell_type": "code",
   "execution_count": null,
   "metadata": {},
   "outputs": [],
   "source": []
  },
  {
   "cell_type": "code",
   "execution_count": null,
   "metadata": {},
   "outputs": [],
   "source": []
  },
  {
   "cell_type": "code",
   "execution_count": null,
   "metadata": {},
   "outputs": [],
   "source": []
  },
  {
   "cell_type": "code",
   "execution_count": 13,
   "metadata": {},
   "outputs": [
    {
     "name": "stdout",
     "output_type": "stream",
     "text": [
      "Execution time: 570.78 seconds\n"
     ]
    }
   ],
   "source": [
    "# Retrieve satellite images providing polygons as AoI delimitations\n",
    "# mosaicking_order=MosaickingOrder.LEAST_CC,\n",
    "\n",
    "\n",
    "try:\n",
    "    aoi_poly = aoi_csv.loc[aoi_csv['Polygon coordinates'].notna()]\n",
    "    aoi_poly.reset_index(inplace=True)\n",
    "\n",
    "    start = time.time()\n",
    "\n",
    "    for index, row in aoi_poly.iterrows():\n",
    "        time_from = row['End of fire']\n",
    "        date_delta = datetime.strptime(row['End of fire'], '%Y-%m-%d').date() + relativedelta(months=+2)\n",
    "        time_until = date_delta.strftime('%Y-%m-%d')\n",
    "        aoi_name = row['Location']\n",
    "        folder_name = row['Area of interest']\n",
    "        aoi_polygon = Geometry(geometry.Polygon(parse_coor_poly(row['Polygon coordinates'])), '4326')\n",
    "        aoi_coords_wgs84 = parse_coord_bbox(row['Bbox coordinates'])\n",
    "        aoi_bbox_coord = BBox(bbox=aoi_coords_wgs84, crs=CRS.WGS84)\n",
    "        width, height = get_width_height(aoi_bbox_coord)\n",
    "        aoi_poly.loc[index:index,'width'] = width\n",
    "        aoi_poly.loc[index:index,'height'] = height\n",
    "\n",
    "        evalscript_all_bands = \"\"\"\n",
    "        //VERSION=3\n",
    "\n",
    "        function setup() {\n",
    "        return {\n",
    "            input: [\"B01\", \"B02\", \"B03\", \"B04\", \"B05\", \"B06\", \"B07\", \"B10\", \"B11\", \"BQA\", \"dataMask\"],\n",
    "            output: {\n",
    "            id: \"reflectance\",\n",
    "            bands: 13,\n",
    "            sampleType: SampleType.UINT16 //floating point values are automatically rounded to the nearest integer by the service.\n",
    "            }\n",
    "        };\n",
    "        }\n",
    "        function evaluatePixel(sample, scenes, inputMetadata, customData, outputMetadata) {\n",
    "        return [sample.B01, sample.B02, sample.B03, sample.B04, sample.B05, sample.B06, sample.B07, sample.B10, sample.B11, sample.BQA, sample.dataMask, outputMetadata]\n",
    "        }\n",
    "        \"\"\"\n",
    "        request_all_bands = SentinelHubRequest(\n",
    "            evalscript=evalscript_all_bands,\n",
    "            input_data=[\n",
    "                SentinelHubRequest.input_data(\n",
    "                    data_collection=DataCollection.LANDSAT_OT_L2,\n",
    "                    time_interval=(time_from, time_until),\n",
    "                    mosaicking_order=MosaickingOrder.LEAST_RECENT,\n",
    "                    maxcc=0.3\n",
    "                )\n",
    "            ],\n",
    "            responses=[SentinelHubRequest.output_response('reflectance', MimeType.TIFF)],\n",
    "            geometry=aoi_polygon,\n",
    "            size=(width, height),\n",
    "            data_folder=f'../Data/Landsat_images_level2_2M/{folder_name}',\n",
    "            config=config,\n",
    "        )\n",
    "        request_all_bands.save_data()\n",
    "        \n",
    "    end = time.time()\n",
    "    print(f'Execution time: {end - start:.2f} seconds')\n",
    "    #aoi_poly.to_csv(path_or_buf='aoi_poly_w_h.csv', index=False)\n",
    "except Exception as e:\n",
    "    print('Error: ', e)\n",
    "    logger.error('Error occured while requesting satellite images: ', e)\n",
    "    "
   ]
  },
  {
   "cell_type": "code",
   "execution_count": 39,
   "metadata": {},
   "outputs": [],
   "source": [
    "# Save width/height in from a CSV\n",
    "\n",
    "def save_width_height_all(csv)\n",
    "    for i, row in aoi_csv.iterrows():\n",
    "        aoi_coords_wgs84 = parse_coord_bbox(row['Bbox coordinates'])\n",
    "        aoi_bbox_coord = BBox(bbox=aoi_coords_wgs84, crs=CRS.WGS84)\n",
    "        width, height = get_width_height(aoi_bbox_coord)\n",
    "        aoi_csv.loc[i:i,'width'] = width\n",
    "        aoi_csv.loc[i:i,'height'] = height  \n",
    "    aoi_csv.to_csv(path_or_buf='aoi_w_h.csv', index=False)\n",
    "    return"
   ]
  },
  {
   "cell_type": "code",
   "execution_count": 44,
   "metadata": {},
   "outputs": [],
   "source": []
  },
  {
   "cell_type": "code",
   "execution_count": null,
   "metadata": {},
   "outputs": [],
   "source": []
  }
 ],
 "metadata": {
  "kernelspec": {
   "display_name": "Python 3 (ipykernel)",
   "language": "python",
   "name": "python3"
  },
  "language_info": {
   "codemirror_mode": {
    "name": "ipython",
    "version": 3
   },
   "file_extension": ".py",
   "mimetype": "text/x-python",
   "name": "python",
   "nbconvert_exporter": "python",
   "pygments_lexer": "ipython3",
   "version": "3.8.3"
  }
 },
 "nbformat": 4,
 "nbformat_minor": 4
}
