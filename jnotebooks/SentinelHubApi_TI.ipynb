{
 "cells": [
  {
   "cell_type": "code",
   "execution_count": 1,
   "metadata": {},
   "outputs": [],
   "source": [
    "# Check out the configurations of Sentinel Hub\n",
    "\n",
    "#!sentinelhub.config --show"
   ]
  },
  {
   "cell_type": "code",
   "execution_count": 23,
   "metadata": {},
   "outputs": [],
   "source": [
    "# Update the configurations with the client id, client secret id and instance id from Sentinel Hub\n",
    "\n",
    "#!sentinelhub.config --sh_client_id 'a8e69011-6acf-4803-b9ef-bcb00ed47df3' --sh_client_secret 'm0<l..i&~i_;dz|?C0rC[]JI_5aIy3DL[HEtYCmz' --instance_id '1b8e6d88-ff0b-4a08-9a75-cca01ace6cf1'\n",
    "#config.save()"
   ]
  },
  {
   "cell_type": "code",
   "execution_count": 31,
   "metadata": {},
   "outputs": [],
   "source": [
    "# Create a config instance from Sentinel Hub\n",
    "\n",
    "#from sentinelhub import SHConfig\n",
    "#config = SHConfig()\n",
    "#config.instance_id = '1b8e6d88-ff0b-4a08-9a75-cca01ace6cf1'\n",
    "#config.sh_client_id = 'a8e69011-6acf-4803-b9ef-bcb00ed47df3'\n",
    "#config.sh_client_secret = 'm0<l..i&~i_;dz|?C0rC[]JI_5aIy3DL[HEtYCmz'"
   ]
  },
  {
   "cell_type": "code",
   "execution_count": 2,
   "metadata": {},
   "outputs": [
    {
     "data": {
      "text/plain": [
       "SHConfig(\n",
       "  instance_id='37abf98d-a04e-40df-9a9b-6b58fb18ee6e',\n",
       "  sh_client_id='8a419e16-5053-4203-b22c-4e2c448547c1',\n",
       "  sh_client_secret='m#khV[sw1X8O5tYGwQ&)w?F439(Y#t:hv+ehvje}',\n",
       "  sh_base_url='https://services.sentinel-hub.com',\n",
       "  sh_auth_base_url='https://services.sentinel-hub.com',\n",
       "  geopedia_wms_url='https://service.geopedia.world',\n",
       "  geopedia_rest_url='https://www.geopedia.world/rest',\n",
       "  aws_access_key_id='',\n",
       "  aws_secret_access_key='',\n",
       "  aws_session_token='',\n",
       "  aws_metadata_url='https://roda.sentinel-hub.com',\n",
       "  aws_s3_l1c_bucket='sentinel-s2-l1c',\n",
       "  aws_s3_l2a_bucket='sentinel-s2-l2a',\n",
       "  opensearch_url='http://opensearch.sentinel-hub.com/resto/api/collections/Sentinel2',\n",
       "  max_wfs_records_per_query=100,\n",
       "  max_opensearch_records_per_query=500,\n",
       "  max_download_attempts=4,\n",
       "  download_sleep_time=5.0,\n",
       "  download_timeout_seconds=120.0,\n",
       "  number_of_download_processes=1\n",
       ")"
      ]
     },
     "execution_count": 2,
     "metadata": {},
     "output_type": "execute_result"
    }
   ],
   "source": [
    "from sentinelhub import SHConfig\n",
    "config = SHConfig()\n",
    "config"
   ]
  },
  {
   "cell_type": "code",
   "execution_count": 5,
   "metadata": {},
   "outputs": [],
   "source": [
    "# Logging config\n",
    "\n",
    "import logging, sys\n",
    "\n",
    "logger = logging.getLogger(__name__)\n",
    "logger.setLevel(logging.DEBUG)\n",
    "\n",
    "fhandler = logging.FileHandler(filename='api_log.log', mode='a')\n",
    "strhandler = logging.StreamHandler(sys.stdout)\n",
    "formatter = logging.Formatter('%(asctime)s - %(name)s - %(levelname)s - %(message)s')\n",
    "fhandler.setFormatter(formatter)\n",
    "logger.addHandler(fhandler)\n",
    "logger.addHandler(strhandler)"
   ]
  },
  {
   "cell_type": "code",
   "execution_count": 6,
   "metadata": {},
   "outputs": [],
   "source": [
    "# IPython magic functions\n",
    "\n",
    "%reload_ext autoreload\n",
    "%autoreload 2\n",
    "%matplotlib inline"
   ]
  },
  {
   "cell_type": "code",
   "execution_count": 7,
   "metadata": {},
   "outputs": [],
   "source": [
    "# Import packages\n",
    "\n",
    "import datetime, os, sys\n",
    "\n",
    "import matplotlib.pyplot as plt\n",
    "import numpy as np\n",
    "from shapely import geometry\n",
    "import pandas as pd\n",
    "import datetime as dt\n",
    "from datetime import datetime\n",
    "import time, ast\n",
    "from dateutil.relativedelta import relativedelta\n",
    "\n",
    "from sentinelhub import (\n",
    "    CRS,\n",
    "    BBox,\n",
    "    Geometry,\n",
    "    DataCollection,\n",
    "    DownloadRequest,\n",
    "    MimeType,\n",
    "    MosaickingOrder,\n",
    "    SentinelHubDownloadClient,\n",
    "    SentinelHubRequest,\n",
    "    bbox_to_dimensions,\n",
    "    get_image_dimension\n",
    ")"
   ]
  },
  {
   "cell_type": "code",
   "execution_count": 8,
   "metadata": {},
   "outputs": [
    {
     "name": "stdout",
     "output_type": "stream",
     "text": [
      "CSV data imported\n",
      "   Area of interest End of fire  Bbox coordinates  \\\n",
      "0      200308132301  2003-09-05               NaN   \n",
      "1      201104262301  2011-05-18               NaN   \n",
      "2      199703152101  1997-03-24               NaN   \n",
      "3      199704152103  1997-04-21               NaN   \n",
      "4      200604032101  2006-04-04               NaN   \n",
      "\n",
      "                                 Polygon coordinates            Location  \\\n",
      "0  [[[615898.47949999943375587,129344.17940000072...                Leuk   \n",
      "1  [[[635402.48279999941587448,126972.39050000160...                Visp   \n",
      "2  [[[698436.13769999891519547,110118.48950000107...  Ronco_sopra_Ascona   \n",
      "3  [[[711619.76649999991059303,108634.33590000122...            Magadino   \n",
      "4  [[[711919.04329999908804893,115556.63140000030...            Cugnasco   \n",
      "\n",
      "     x_coor    y_coor         CRS  Longitude   Latitude Unnamed: 10  \\\n",
      "0  615400.0  129800.0  EPSG:21781   7.638587  46.319424   EPSG:4326   \n",
      "1  635375.0  126975.0  EPSG:21781   7.897712  46.293259   EPSG:4326   \n",
      "2  698840.0  110560.0  EPSG:21781   8.717738  46.139281   EPSG:4326   \n",
      "3  712500.0  110800.0  EPSG:21781   8.894532  46.139298   EPSG:4326   \n",
      "4  711277.0  115850.0  EPSG:21781   8.879909  46.184921   EPSG:4326   \n",
      "\n",
      "           Code  QA ok=1; nok=0  \\\n",
      "0  2.003080e+11             NaN   \n",
      "1  2.011040e+11             NaN   \n",
      "2  1.997030e+11             NaN   \n",
      "3  1.997040e+11             NaN   \n",
      "4  2.006040e+11             NaN   \n",
      "\n",
      "   Comment cc=cloud coverage; dim=dimensions; qa=quality assessment Landsat, del=delimitation  \n",
      "0                                                NaN                                           \n",
      "1                                                NaN                                           \n",
      "2                                                NaN                                           \n",
      "3                                                NaN                                           \n",
      "4                                                NaN                                           \n"
     ]
    },
    {
     "name": "stderr",
     "output_type": "stream",
     "text": [
      "INFO:__main__:CSV data imported\n"
     ]
    }
   ],
   "source": [
    "# Import CSV file with data about the Area of Interest (AoI)\n",
    "\n",
    "try:\n",
    "    aoi_csv = pd.read_csv('../aoi_TI.csv', header=0)\n",
    "    logger.info('CSV data imported')\n",
    "    print(aoi_csv.head())\n",
    "except Exception as e:\n",
    "    logger.error('Error importing the csv file: ', e)\n",
    "    "
   ]
  },
  {
   "cell_type": "code",
   "execution_count": 9,
   "metadata": {},
   "outputs": [],
   "source": [
    "# Parse the coordinates of boxes\n",
    "def parse_coord_bbox(str_coordinates):\n",
    "    try:\n",
    "        coordinates = str_coordinates[1:-1].split(',')\n",
    "        coord_list = [float(coord) for coord in coordinates]\n",
    "        return coord_list\n",
    "    except Exception as e:\n",
    "        logger.error('Error occured parsing the box coordinates: ', e)"
   ]
  },
  {
   "cell_type": "code",
   "execution_count": 10,
   "metadata": {},
   "outputs": [],
   "source": [
    "# Parse the coordinates of polygones\n",
    "def parse_coord_poly(str_coordinates):\n",
    "    try:\n",
    "        coord_str = str_coordinates[1:-1].replace(' ','')\n",
    "        coord_list = ast.literal_eval(coord_str)\n",
    "        return coord_list\n",
    "    except Exception as e:\n",
    "        logger.error('Error occured parsing the poly coordinates: ', e)"
   ]
  },
  {
   "cell_type": "code",
   "execution_count": 11,
   "metadata": {},
   "outputs": [],
   "source": [
    "#Create a bbox from the polygone coordinates\n",
    "# +5000\n",
    "from math import floor, ceil\n",
    "def create_bbox(poly_coordinates):\n",
    "    parsed_coord = parse_coord_poly(poly_coordinates)\n",
    "    long, lat = zip(*[(coord[0], coord[1]) for coord in parsed_coord])\n",
    "    bbox_coords = [min(long)-500, min(lat)-500, max(long)+500, max(lat)+500]\n",
    "    return BBox(bbox=bbox_coords, crs='21781').transform(CRS.WGS84)\n"
   ]
  },
  {
   "cell_type": "code",
   "execution_count": 15,
   "metadata": {},
   "outputs": [
    {
     "name": "stdout",
     "output_type": "stream",
     "text": [
      "Execution time: 8.85 seconds\n"
     ]
    }
   ],
   "source": [
    "# Retrieve satellite images providing polygons as AoI delimitations\n",
    "# mosaicking_order=MosaickingOrder.LEAST_CC,\n",
    "# mosaicking_order=MosaickingOrder.LEAST_RECENT,\n",
    "# maxcc=0.3\n",
    "\n",
    "try:\n",
    "    aoi_poly = aoi_csv.loc[aoi_csv['End of fire'].notna()]\n",
    "    aoi_poly = aoi_csv[pd.to_datetime(aoi_csv['End of fire']).dt.year >= 2013]\n",
    "    aoi_poly.reset_index(inplace=True)\n",
    "    start = time.time()\n",
    "    \n",
    "\n",
    "    for index, row in aoi_poly.iterrows():\n",
    "        time_from = row['End of fire']\n",
    "        date_delta = datetime.strptime(row['End of fire'], '%Y-%m-%d').date() + relativedelta(weeks=+2)\n",
    "        time_until = date_delta.strftime('%Y-%m-%d')\n",
    "        aoi_name = row['Location']\n",
    "        folder_name = str(row['Area of interest'])\n",
    "        aoi_polygon = Geometry(geometry.Polygon(parse_coord_poly(row['Polygon coordinates'])), '21781').transform(CRS.WGS84)\n",
    "        aoi_bbox_coord = create_bbox(row['Polygon coordinates'])\n",
    "        height = 512\n",
    "        width = get_image_dimension(aoi_bbox_coord, height=512)\n",
    "        if width < height:\n",
    "            width = 512\n",
    "            height = get_image_dimension(aoi_bbox_coord, width=512)\n",
    "        \n",
    "        evalscript_all_bands = \"\"\"\n",
    "        //VERSION=3\n",
    "\n",
    "        function setup() {\n",
    "        return {\n",
    "            input: [\"B01\", \"B02\", \"B03\", \"B04\", \"B05\", \"B06\", \"B07\", \"B10\", \"BQA\", \"dataMask\"],\n",
    "            output: {\n",
    "            id: \"raw\",\n",
    "            bands: 10,\n",
    "            sampleType: SampleType.UINT16 //floating point values are automatically rounded to the nearest integer by the service.\n",
    "            }\n",
    "        };\n",
    "        }\n",
    "        function evaluatePixel(sample, scenes, inputMetadata, customData, outputMetadata) {\n",
    "        return [sample.B01, sample.B02, sample.B03, sample.B04, sample.B05, sample.B06, sample.B07, sample.B10, sample.BQA, sample.dataMask]\n",
    "        }\n",
    "        \"\"\"\n",
    "        request_all_bands = SentinelHubRequest(\n",
    "            evalscript=evalscript_all_bands,\n",
    "            input_data=[\n",
    "                SentinelHubRequest.input_data(\n",
    "                    data_collection=DataCollection.LANDSAT_OT_L2,\n",
    "                    time_interval=(time_from, time_until),\n",
    "                    mosaicking_order=MosaickingOrder.LEAST_CC,\n",
    "                )\n",
    "            ],\n",
    "            responses=[SentinelHubRequest.output_response('raw', MimeType.TIFF)],\n",
    "            bbox=aoi_bbox_coord,\n",
    "            size=(width, height),\n",
    "            data_folder=f'../Data/WSL/Landsat_images_level2_2W/{folder_name}',\n",
    "            config=config\n",
    "        )\n",
    "        request_all_bands.save_data()\n",
    "    end = time.time()\n",
    "    print(f'Execution time: {end - start:.2f} seconds')\n",
    "except Exception as e:\n",
    "    print('Error: ', e)\n",
    "    logger.error('Error occured while requesting satellite images: ', e)\n",
    "    "
   ]
  },
  {
   "cell_type": "code",
   "execution_count": null,
   "metadata": {},
   "outputs": [],
   "source": []
  },
  {
   "cell_type": "code",
   "execution_count": null,
   "metadata": {},
   "outputs": [],
   "source": []
  },
  {
   "cell_type": "code",
   "execution_count": null,
   "metadata": {},
   "outputs": [],
   "source": []
  },
  {
   "cell_type": "code",
   "execution_count": null,
   "metadata": {},
   "outputs": [],
   "source": []
  },
  {
   "cell_type": "code",
   "execution_count": 17,
   "metadata": {},
   "outputs": [
    {
     "name": "stdout",
     "output_type": "stream",
     "text": [
      "Execution time: 12.54 seconds\n"
     ]
    }
   ],
   "source": [
    "# Retrieve satellite images providing polygons as AoI delimitations\n",
    "# mosaicking_order=MosaickingOrder.LEAST_CC,\n",
    "# mosaicking_order=MosaickingOrder.LEAST_RECENT,\n",
    "# maxcc=0.3\n",
    "\n",
    "try:\n",
    "    aoi_poly = aoi_csv.loc[aoi_csv['End of fire'].notna()]\n",
    "    aoi_poly = aoi_csv[pd.to_datetime(aoi_csv['End of fire']).dt.year >= 2013]\n",
    "    aoi_poly.reset_index(inplace=True)\n",
    "    start = time.time()\n",
    "    \n",
    "\n",
    "    for index, row in aoi_poly.iterrows():\n",
    "        time_from = row['End of fire']\n",
    "        date_delta = datetime.strptime(row['End of fire'], '%Y-%m-%d').date() + relativedelta(weeks=+2)\n",
    "        time_until = date_delta.strftime('%Y-%m-%d')\n",
    "        aoi_name = row['Location']\n",
    "        folder_name = str(row['Area of interest'])\n",
    "        aoi_polygon = Geometry(geometry.Polygon(parse_coord_poly(row['Polygon coordinates'])), '21781').transform(CRS.WGS84)\n",
    "        aoi_bbox_coord = create_bbox(row['Polygon coordinates'])\n",
    "        height = 512\n",
    "        width = get_image_dimension(aoi_bbox_coord, height=512)\n",
    "        if width < height:\n",
    "            width = 512\n",
    "            height = get_image_dimension(aoi_bbox_coord, width=512)\n",
    "        \n",
    "        evalscript_all_bands = \"\"\"\n",
    "        //VERSION=3\n",
    "\n",
    "        function setup() {\n",
    "        return {\n",
    "            input: [\"B01\", \"B02\", \"B03\", \"B04\", \"B05\", \"B06\", \"B07\", \"B08\", \"B8A\", \"B09\", \"B11\", \"B12\", \"dataMask\"],\n",
    "            output: {\n",
    "            id: \"raw\",\n",
    "            bands: 13,\n",
    "            sampleType: SampleType.UINT16 //floating point values are automatically rounded to the nearest integer by the service.\n",
    "            }\n",
    "        };\n",
    "        }\n",
    "        function evaluatePixel(sample, scenes, inputMetadata, customData, outputMetadata) {\n",
    "        return [sample.B01, sample.B02, sample.B03, sample.B04, sample.B05, sample.B06, sample.B07, sample.B08, sample.B8A, sample.B09, sample.B11, sample.B12, sample.dataMask]\n",
    "        }\n",
    "        \"\"\"\n",
    "        request_all_bands = SentinelHubRequest(\n",
    "            evalscript=evalscript_all_bands,\n",
    "            input_data=[\n",
    "                SentinelHubRequest.input_data(\n",
    "                    data_collection=DataCollection.SENTINEL2_L2A,\n",
    "                    time_interval=(time_from, time_until),\n",
    "                    mosaicking_order=MosaickingOrder.LEAST_CC,\n",
    "                )\n",
    "            ],\n",
    "            responses=[SentinelHubRequest.output_response('raw', MimeType.TIFF)],\n",
    "            bbox=aoi_bbox_coord,\n",
    "            size=(width, height),\n",
    "            data_folder=f'../Data/WSL/Sentinel_images_2W/{folder_name}',\n",
    "            config=config\n",
    "        )\n",
    "        request_all_bands.save_data()\n",
    "    end = time.time()\n",
    "    print(f'Execution time: {end - start:.2f} seconds')\n",
    "except Exception as e:\n",
    "    print('Error: ', e)\n",
    "    logger.error('Error occured while requesting satellite images: ', e)\n",
    "    "
   ]
  },
  {
   "cell_type": "code",
   "execution_count": null,
   "metadata": {},
   "outputs": [],
   "source": []
  }
 ],
 "metadata": {
  "kernelspec": {
   "display_name": "Python 3 (ipykernel)",
   "language": "python",
   "name": "python3"
  },
  "language_info": {
   "codemirror_mode": {
    "name": "ipython",
    "version": 3
   },
   "file_extension": ".py",
   "mimetype": "text/x-python",
   "name": "python",
   "nbconvert_exporter": "python",
   "pygments_lexer": "ipython3",
   "version": "3.8.3"
  }
 },
 "nbformat": 4,
 "nbformat_minor": 4
}
